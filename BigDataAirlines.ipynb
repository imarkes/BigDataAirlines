{
  "nbformat": 4,
  "nbformat_minor": 0,
  "metadata": {
    "colab": {
      "provenance": [],
      "collapsed_sections": [],
      "authorship_tag": "ABX9TyO9/T49PfHpeNQ2Fb92odAK",
      "include_colab_link": true
    },
    "kernelspec": {
      "name": "python3",
      "display_name": "Python 3"
    },
    "language_info": {
      "name": "python"
    }
  },
  "cells": [
    {
      "cell_type": "markdown",
      "metadata": {
        "id": "view-in-github",
        "colab_type": "text"
      },
      "source": [
        "<a href=\"https://colab.research.google.com/github/imarkes/BigDataAirlines/blob/main/BigDataAirlines.ipynb\" target=\"_parent\"><img src=\"https://colab.research.google.com/assets/colab-badge.svg\" alt=\"Open In Colab\"/></a>"
      ]
    },
    {
      "cell_type": "code",
      "execution_count": 1,
      "metadata": {
        "colab": {
          "base_uri": "https://localhost:8080/"
        },
        "id": "1iJdXUzG7N3S",
        "outputId": "adf79fe8-01ad-41d5-a1ce-3b4b97dce5ef"
      },
      "outputs": [
        {
          "output_type": "stream",
          "name": "stdout",
          "text": [
            "Looking in indexes: https://pypi.org/simple, https://us-python.pkg.dev/colab-wheels/public/simple/\n",
            "Requirement already satisfied: pyspark in /usr/local/lib/python3.7/dist-packages (3.3.0)\n",
            "Requirement already satisfied: py4j==0.10.9.5 in /usr/local/lib/python3.7/dist-packages (from pyspark) (0.10.9.5)\n"
          ]
        }
      ],
      "source": [
        "!pip install pyspark\n"
      ]
    },
    {
      "cell_type": "code",
      "source": [
        "import pyspark\n",
        "import re\n",
        "import requests\n",
        "import unicodedata\n",
        "from pyspark.sql import SparkSession\n",
        "from pyspark.sql.functions import *\n",
        "from pyspark.sql import udf\n",
        "from pyspark.sql.types import StructType, StructField, StringType, LongType, DoubleType, DateType, TimestampType, \\\n",
        "    IntegerType\n"
      ],
      "metadata": {
        "id": "tLU1ZgAs7XFv"
      },
      "execution_count": 2,
      "outputs": []
    },
    {
      "cell_type": "code",
      "source": [
        "spark = (SparkSession\n",
        "         .builder\n",
        "         .master('local[*]')\n",
        "         .appName('BigData Airlines')\n",
        "         .getOrCreate())"
      ],
      "metadata": {
        "id": "-JT1QyQ27kLO"
      },
      "execution_count": 3,
      "outputs": []
    },
    {
      "cell_type": "markdown",
      "source": [
        "# BigData Airlines\n",
        "A Eleflow irá atender um novo cliente, a BigData Airlines, e você será o engenheiro de dados responsável por fazer a ingestão de dados e preparar algumas tabelas para os cientistas de dados e analistas de dados."
      ],
      "metadata": {
        "id": "4OlbBA4HxRQs"
      }
    },
    {
      "cell_type": "markdown",
      "source": [
        "##Carregar os dados de VRA\n",
        "* Normalizar o cabeçalho para snake case\n",
        "Salvar estes dados"
      ],
      "metadata": {
        "id": "D1fByfYVxadS"
      }
    },
    {
      "cell_type": "code",
      "source": [
        "# Carregamento dos dados de VRA\n",
        "vra_path = '/content/spark-warehouse/VRA/VRA_*.json'\n",
        "\n",
        "df_vra = (\n",
        "    spark\n",
        "    .read\n",
        "    .option('inferSchema', 'true')\n",
        "    .json(vra_path)\n",
        ")\n",
        "\n",
        "df_vra.printSchema()\n",
        "print('total de registros: ', df_vra.count())"
      ],
      "metadata": {
        "colab": {
          "base_uri": "https://localhost:8080/"
        },
        "id": "k_Zq-C9k7iXR",
        "outputId": "da4caa03-3be2-47a1-940a-3b85cc87a5b4"
      },
      "execution_count": 4,
      "outputs": [
        {
          "output_type": "stream",
          "name": "stdout",
          "text": [
            "root\n",
            " |-- ChegadaPrevista: string (nullable = true)\n",
            " |-- ChegadaReal: string (nullable = true)\n",
            " |-- CódigoAutorização: string (nullable = true)\n",
            " |-- CódigoJustificativa: string (nullable = true)\n",
            " |-- CódigoTipoLinha: string (nullable = true)\n",
            " |-- ICAOAeródromoDestino: string (nullable = true)\n",
            " |-- ICAOAeródromoOrigem: string (nullable = true)\n",
            " |-- ICAOEmpresaAérea: string (nullable = true)\n",
            " |-- NúmeroVoo: string (nullable = true)\n",
            " |-- PartidaPrevista: string (nullable = true)\n",
            " |-- PartidaReal: string (nullable = true)\n",
            " |-- SituaçãoVoo: string (nullable = true)\n",
            "\n",
            "total de registros:  535803\n"
          ]
        }
      ]
    },
    {
      "cell_type": "code",
      "source": [
        "# Normalizar o cabeçalho VRA\n",
        "def normalizer_headers_vra(words: str) -> str:\n",
        "    \"\"\"\n",
        "    :param: ChegadaPrevista\n",
        "    :return: chegada_prevista\n",
        "    \"\"\"\n",
        "    assert isinstance(words, str)\n",
        "\n",
        "    old_words = ''.join(ch for ch in unicodedata.normalize('NFKD', words)\n",
        "    if not unicodedata.combining(ch))\n",
        "\n",
        "    words = re.findall('[A-Z]*[^A-Z]*', old_words)  # split letras maiúsculas\n",
        "    \n",
        "    words = [x.lower() for x in words]\n",
        "\n",
        "    return '_'.join(words)[:-1]\n",
        "\n",
        "\n",
        "rename_cols = {col_name: normalizer_headers_vra(col_name) for col_name in df_vra.columns}\n",
        "df_vra = df_vra.select([when(col(c) == \"\", None).otherwise(col(c)).alias(rename_cols.get(c, c)) for c in df_vra.columns])\n",
        "\n"
      ],
      "metadata": {
        "id": "DF-rCXe87phy"
      },
      "execution_count": 5,
      "outputs": []
    },
    {
      "cell_type": "code",
      "source": [
        "# Visualiza cabeçalhos normalizados\n",
        "df_vra.show(5)"
      ],
      "metadata": {
        "colab": {
          "base_uri": "https://localhost:8080/"
        },
        "id": "LiqFhPzioOiJ",
        "outputId": "dd5f2da1-5e95-4151-cd02-8d991e3c90b2"
      },
      "execution_count": 6,
      "outputs": [
        {
          "output_type": "stream",
          "name": "stdout",
          "text": [
            "+-------------------+-------------------+------------------+--------------------+-----------------+---------------------+--------------------+-----------------+----------+-------------------+-------------------+------------+\n",
            "|   chegada_prevista|       chegada_real|codigo_autorizacao|codigo_justificativa|codigo_tipo_linha|icaoaerodromo_destino|icaoaerodromo_origem|icaoempresa_aerea|numero_voo|   partida_prevista|       partida_real|situacao_voo|\n",
            "+-------------------+-------------------+------------------+--------------------+-----------------+---------------------+--------------------+-----------------+----------+-------------------+-------------------+------------+\n",
            "|2021-11-12 08:30:00|2021-11-12 08:24:00|                 0|                 N/A|                X|                 KORD|                SBGR|              UAL|      0844|2021-11-11 22:00:00|2021-11-11 22:14:00|   REALIZADO|\n",
            "|2021-11-15 08:30:00|2021-11-15 08:05:00|                 0|                 N/A|                X|                 KORD|                SBGR|              UAL|      0844|2021-11-14 22:00:00|2021-11-14 21:59:00|   REALIZADO|\n",
            "|2021-11-22 08:30:00|2021-11-22 08:19:00|                 0|                 N/A|                X|                 KORD|                SBGR|              UAL|      0844|2021-11-21 22:00:00|2021-11-21 22:00:00|   REALIZADO|\n",
            "|2021-11-19 08:30:00|2021-11-19 08:17:00|                 0|                 N/A|                X|                 KORD|                SBGR|              UAL|      0844|2021-11-18 22:00:00|2021-11-18 22:01:00|   REALIZADO|\n",
            "|2021-11-21 08:30:00|2021-11-21 08:23:00|                 0|                 N/A|                X|                 KORD|                SBGR|              UAL|      0844|2021-11-20 22:00:00|2021-11-20 22:02:00|   REALIZADO|\n",
            "+-------------------+-------------------+------------------+--------------------+-----------------+---------------------+--------------------+-----------------+----------+-------------------+-------------------+------------+\n",
            "only showing top 5 rows\n",
            "\n"
          ]
        }
      ]
    },
    {
      "cell_type": "markdown",
      "source": [
        "## Carregar dos dados de AIR_CIA\n",
        "* Normalizar o cabeçalho para snake case\n",
        "* Separar a coluna 'ICAO IATA' em duas colunas, seu conteúdo está separado por espaço e pode não conter o código IATA, caso não contenha o código IATA, deixe o valor nulo.\n",
        "* Salvar estes dados"
      ],
      "metadata": {
        "id": "G4C4g2XkxiLh"
      }
    },
    {
      "cell_type": "code",
      "source": [
        "#Carregamento dos dados de AIR_CIA\n",
        "AIE_CIA_PATH = '/content/spark-warehouse/AIR_CIA/ANAC_20211220_*.csv'\n",
        "\n",
        "df_air_cia = (\n",
        "    spark\n",
        "    .read\n",
        "    .option('header', 'true')\n",
        "    .option('inferSchema', 'true')\n",
        "    .option('sep', ';')\n",
        "    .csv(AIE_CIA_PATH)\n",
        ")\n",
        "\n",
        "df_air_cia.printSchema()\n",
        "print('total de registros: ', df_air_cia.count())"
      ],
      "metadata": {
        "colab": {
          "base_uri": "https://localhost:8080/"
        },
        "id": "lALpbQLY8gYk",
        "outputId": "9d29ea9a-ac90-43fe-a918-e0327e472008"
      },
      "execution_count": 7,
      "outputs": [
        {
          "output_type": "stream",
          "name": "stdout",
          "text": [
            "root\n",
            " |-- Razão Social: string (nullable = true)\n",
            " |-- ICAO IATA: string (nullable = true)\n",
            " |-- CNPJ: string (nullable = true)\n",
            " |-- Atividades Aéreas: string (nullable = true)\n",
            " |-- Endereço Sede: string (nullable = true)\n",
            " |-- Telefone: string (nullable = true)\n",
            " |-- E-Mail: string (nullable = true)\n",
            " |-- Decisão Operacional: string (nullable = true)\n",
            " |-- Data Decisão Operacional: string (nullable = true)\n",
            " |-- Validade Operacional: string (nullable = true)\n",
            "\n",
            "total de registros:  20\n"
          ]
        }
      ]
    },
    {
      "cell_type": "code",
      "source": [
        "# Normalizar o cabeçalho AIR_CIA\n",
        "def normalizer_headers(words: str) -> str:\n",
        "    \"\"\"\n",
        "    :param: Atividades Aéreas\n",
        "    :return: atividades_aereas\n",
        "    \"\"\"\n",
        "    assert isinstance(words, str)\n",
        "\n",
        "    old_words = ''.join(old for old in unicodedata.normalize('NFKD', words)\n",
        "    if not unicodedata.combining(old))\n",
        "    return old_words.replace(' ', '_').replace('-','_').lower()\n",
        "\n",
        "rename_cols = {col_name: normalizer_headers(col_name) for col_name in df_air_cia.columns}\n",
        "df_air_cia = df_air_cia.select([when(col(c) == \"\", None).otherwise(col(c)).alias(rename_cols.get(c, c)) for c in df_air_cia.columns])\n",
        "\n",
        "# Visualiza cabeçalhos normalizados\n",
        "print(df_air_cia.columns)"
      ],
      "metadata": {
        "colab": {
          "base_uri": "https://localhost:8080/"
        },
        "id": "ds6zoDSvQ2Mi",
        "outputId": "4dd0a34f-51a2-47d2-a625-a8162df8969d"
      },
      "execution_count": 8,
      "outputs": [
        {
          "output_type": "stream",
          "name": "stdout",
          "text": [
            "['razao_social', 'icao_iata', 'cnpj', 'atividades_aereas', 'endereco_sede', 'telefone', 'e_mail', 'decisao_operacional', 'data_decisao_operacional', 'validade_operacional']\n"
          ]
        }
      ]
    },
    {
      "cell_type": "code",
      "source": [
        "# Separar a coluna 'ICAO IATA'\n",
        "df_air_cia = df_air_cia.withColumn('icao', substring('icao_iata', 0,3))\\\n",
        "                        .withColumn('iata', when(col('icao_iata') == '', None).otherwise(substring('icao_iata', 4,6)))\\\n",
        "                        .drop(col('icao_iata'))\n",
        "df_air_cia.show(5)"
      ],
      "metadata": {
        "colab": {
          "base_uri": "https://localhost:8080/"
        },
        "id": "ytvXei8LSwhx",
        "outputId": "592760da-d1c7-4b9a-a20d-ab1ae2414e0d"
      },
      "execution_count": 9,
      "outputs": [
        {
          "output_type": "stream",
          "name": "stdout",
          "text": [
            "+--------------------+------------------+--------------------+--------------------+--------------------+--------------------+--------------------+------------------------+--------------------+----+----+\n",
            "|        razao_social|              cnpj|   atividades_aereas|       endereco_sede|            telefone|              e_mail| decisao_operacional|data_decisao_operacional|validade_operacional|icao|iata|\n",
            "+--------------------+------------------+--------------------+--------------------+--------------------+--------------------+--------------------+------------------------+--------------------+----+----+\n",
            "|ABSA - AEROLINHAS...|00.074.635/0001-33|TRANSPORTE AÉREO ...|AEROPORTO INTERNA...|      (11) 5582-8055|      gar@tam.com.br|       DECISÃO Nº 41|              22/04/2015|          23/04/2025| LTG|  M3|\n",
            "|AEROSUL TÁXI AÉRE...|27.315.694/0001-02|SERVIÇOS AÉREOS P...|RODOVIA PR 218, K...|      (43) 3176-4030|operacoes@aerosul...|      DECISÃO Nº 282|              10/02/2021|                null| ASO|  2S|\n",
            "|ASTA LINHAS AÉREA...|12.703.737/0001-50|SERVIÇOS AÉREOS P...|AV GOVERNADOR JOÃ...|(65) 3614-2684 / ...|                null|      DECISÃO Nº 115|              31/07/2019|          02/08/2024| SUL|  0A|\n",
            "|ATA - AEROTÁXI AB...|14.674.451/0001-19|TÁXI-AÉREO, TRANS...| PÇA. GAGO COUTIN...|(71) 34629600 / (...|guilherme@abaete....|       DECISÃO Nº 36|              05/03/2020|                null| ABJ|    |\n",
            "|AZUL CONECTA LTDA...|04.263.318/0001-16|TRANSPORTE AÉREO ...|AVENIDA EMILIO AN...|(11) 45822355/ (1...|                null|Decisão nº 14, de...|              25/01/2018|          29/01/2028| ACN|  2F|\n",
            "+--------------------+------------------+--------------------+--------------------+--------------------+--------------------+--------------------+------------------------+--------------------+----+----+\n",
            "only showing top 5 rows\n",
            "\n"
          ]
        }
      ]
    },
    {
      "cell_type": "markdown",
      "source": [
        "## Criar nova tabela aerodromos\n",
        "* Através da API https://rapidapi.com/Active-api/api/airport-info/ trazer os aeródramos através do código ICAO presente nos dados de VRA.\n",
        "* Salvar estes dados"
      ],
      "metadata": {
        "id": "JzujXfsMx1Gq"
      }
    },
    {
      "cell_type": "code",
      "source": [
        "# Tabela aerodromos baseados no codgos ICAO VRA\n",
        "def get_data_api(codgos):\n",
        "    \"\"\"Get data URL.\"\"\"\n",
        "    try:\n",
        "        url = \"https://airport-info.p.rapidapi.com/airport\"\n",
        "        headers = {\n",
        "            'x-rapidapi-host': \"airport-info.p.rapidapi.com\",\n",
        "            'x-rapidapi-key': \"4e66b5eee7mshe07cecc516f5f82p1d7870jsnece9b9399d9e\"\n",
        "        }\n",
        "        response = []\n",
        "        for cod in codgos:\n",
        "            querystring = {\"icao\": cod}\n",
        "            resp = requests.request(\"GET\", url, headers=headers, params=querystring).json()\n",
        "\n",
        "            # valida o codgo icao.\n",
        "            if not 'error' in resp:\n",
        "\n",
        "                # trata o name\n",
        "                resp['name'] = str(resp['name']).replace(\"'\", '')\n",
        "\n",
        "                # trata street\n",
        "                resp['street'] = str(resp['street']).replace(\"'\", '')\n",
        "                \n",
        "                response.append(resp)\n",
        "       \n",
        "        return response\n",
        "\n",
        "    except Exception as e:\n",
        "        print(f'Não foi possivel obter os dados da requisição HTTP.. Erro: {e}')\n",
        "\n"
      ],
      "metadata": {
        "id": "OXu9viNdURKC"
      },
      "execution_count": 10,
      "outputs": []
    },
    {
      "cell_type": "code",
      "source": [
        "# codgos ICAO distintos\n",
        "filter_icao_vra_origem = df_vra.select('icaoaerodromo_origem').distinct()\n",
        "filter_icao_vra_destino = df_vra.select('icaoaerodromo_destino').distinct()\n",
        "\n",
        "# lista de codgos\n",
        "icao_vra_origem=filter_icao_vra_origem.collect()\n",
        "icao_vra_destino=filter_icao_vra_destino.collect()\n",
        "\n",
        "# Info aerodromos\n",
        "aerodromos_origem = get_data_api(icao_vra_origem)\n",
        "\n",
        "aerodromos_destino = get_data_api(icao_vra_destino)\n"
      ],
      "metadata": {
        "id": "IQBWMZinUPjs"
      },
      "execution_count": 11,
      "outputs": []
    },
    {
      "cell_type": "code",
      "source": [
        "# Tratando os dados\n",
        "def cast_col(data,ncol=None):\n",
        "    cast = [c[ncol] if c[ncol] != 0 else 0.0 for c in data]\n",
        "    for i in data:\n",
        "        i[ncol] = cast\n",
        "    return data\n",
        "\n",
        "aerodromos_origem = cast_col(aerodromos_origem, 'latitude')\n",
        "aerodromos_origem = cast_col(aerodromos_origem, 'longitude')\n",
        "aerodromos_destino = cast_col(aerodromos_destino, 'latitude')\n",
        "aerodromos_destino = cast_col(aerodromos_destino, 'longitude')\n"
      ],
      "metadata": {
        "id": "tD12Ix7R-wUK"
      },
      "execution_count": 12,
      "outputs": []
    },
    {
      "cell_type": "code",
      "source": [
        "# Salvando os dataframes\n",
        "df_aerodromos_origem = spark.createDataFrame(aerodromos_origem)\n",
        "df_aerodromos_origem.show(5)"
      ],
      "metadata": {
        "colab": {
          "base_uri": "https://localhost:8080/"
        },
        "id": "C25tRJm8J1HR",
        "outputId": "2caa4078-6e8d-472a-d33c-8d44b4299d70"
      },
      "execution_count": 13,
      "outputs": [
        {
          "output_type": "stream",
          "name": "stdout",
          "text": [
            "+----------------+-------------+-----------+-------------------+----+----+----+--------------------+--------------------+--------------------+--------------------+-----------------+-----------+-------------+--------------------+-------------+----+--------------------+\n",
            "|            city|      country|country_iso|             county|iata|icao|  id|            latitude|            location|           longitude|                name|            phone|postal_code|        state|              street|street_number| uct|             website|\n",
            "+----------------+-------------+-----------+-------------------+----+----+----+--------------------+--------------------+--------------------+--------------------+-----------------+-----------+-------------+--------------------+-------------+----+--------------------+\n",
            "|Roissy-en-France|       France|         FR|                   | CDG|LFPG|1213|[49.00969, -16.43...|Paris, Île-de-Fra...|[2.5479245, -39.0...|Charles de Gaulle...|+33 1 70 36 39 50|      95700|Île-de-France|                    |             | 120|http://www.parisa...|\n",
            "|                |       Brazil|         BR|       Porto Seguro| BPS|SBPS| 908|[49.00969, -16.43...|Porto Seguro, Bah...|[2.5479245, -39.0...|Porto Seguro Airport| +55 73 3288-1880|  45810-000|        Bahia|Rua Primeiro de Maio|           68|-180|http://www.aeropo...|\n",
            "|         Atlanta|United States|         US|                   | ATL|KATL| 410|[49.00969, -16.43...|Atlanta, Georgia,...|[2.5479245, -39.0...|Hartsfield–Jackso...|  +1 800-897-1910|      30320|      Georgia|North Terminal Pa...|         6000|-240| http://www.atl.com/|\n",
            "|                |       Brazil|         BR|           Itaituba| ITB|SBIH|3301|[49.00969, -16.43...|Itaituba, Pará, B...|[2.5479245, -39.0...|    Itaituba Airport|                 |           |State of Pará|                    |             |-180|                    |\n",
            "|                |       Brazil|         BR|São José dos Campos| SJK|SBSJ|6811|[49.00969, -16.43...|São José dos Camp...|[2.5479245, -39.0...|Professor Urbano ...| +55 12 3946-3000|  12227-000|    São Paulo|Avenida Brigadeir...|         1941|-180|http://www.infrae...|\n",
            "+----------------+-------------+-----------+-------------------+----+----+----+--------------------+--------------------+--------------------+--------------------+-----------------+-----------+-------------+--------------------+-------------+----+--------------------+\n",
            "only showing top 5 rows\n",
            "\n"
          ]
        }
      ]
    },
    {
      "cell_type": "code",
      "source": [
        "df_aerodromos_destino = spark.createDataFrame(aerodromos_destino)\n",
        "df_aerodromos_destino.show(5)"
      ],
      "metadata": {
        "colab": {
          "base_uri": "https://localhost:8080/"
        },
        "id": "sQ598T-OmLQk",
        "outputId": "eaed44d0-452b-4cf4-c68d-dc31bbebd195"
      },
      "execution_count": 14,
      "outputs": [
        {
          "output_type": "stream",
          "name": "stdout",
          "text": [
            "+----------------+-------------+-----------+-------------------+----+----+----+--------------------+--------------------+--------------------+--------------------+-----------------+-----------+-------------+--------------------+-------------+----+--------------------+\n",
            "|            city|      country|country_iso|             county|iata|icao|  id|            latitude|            location|           longitude|                name|            phone|postal_code|        state|              street|street_number| uct|             website|\n",
            "+----------------+-------------+-----------+-------------------+----+----+----+--------------------+--------------------+--------------------+--------------------+-----------------+-----------+-------------+--------------------+-------------+----+--------------------+\n",
            "|Roissy-en-France|       France|         FR|                   | CDG|LFPG|1213|[49.00969, -16.43...|Paris, Île-de-Fra...|[2.5479245, -39.0...|Charles de Gaulle...|+33 1 70 36 39 50|      95700|Île-de-France|                    |             | 120|http://www.parisa...|\n",
            "|                |       Brazil|         BR|       Porto Seguro| BPS|SBPS| 908|[49.00969, -16.43...|Porto Seguro, Bah...|[2.5479245, -39.0...|Porto Seguro Airport| +55 73 3288-1880|  45810-000|        Bahia|Rua Primeiro de Maio|           68|-180|http://www.aeropo...|\n",
            "|         Atlanta|United States|         US|                   | ATL|KATL| 410|[49.00969, -16.43...|Atlanta, Georgia,...|[2.5479245, -39.0...|Hartsfield–Jackso...|  +1 800-897-1910|      30320|      Georgia|North Terminal Pa...|         6000|-240| http://www.atl.com/|\n",
            "|                |       Brazil|         BR|           Itaituba| ITB|SBIH|3301|[49.00969, -16.43...|Itaituba, Pará, B...|[2.5479245, -39.0...|    Itaituba Airport|                 |           |State of Pará|                    |             |-180|                    |\n",
            "|                |       Brazil|         BR|São José dos Campos| SJK|SBSJ|6811|[49.00969, -16.43...|São José dos Camp...|[2.5479245, -39.0...|Professor Urbano ...| +55 12 3946-3000|  12227-000|    São Paulo|Avenida Brigadeir...|         1941|-180|http://www.infrae...|\n",
            "+----------------+-------------+-----------+-------------------+----+----+----+--------------------+--------------------+--------------------+--------------------+-----------------+-----------+-------------+--------------------+-------------+----+--------------------+\n",
            "only showing top 5 rows\n",
            "\n"
          ]
        }
      ]
    },
    {
      "cell_type": "markdown",
      "source": [
        "#Criar as seguintes views (Priorize o uso de SQL para esta parte):\n",
        "Para cada companhia aérea trazer a rota mais utilizada com as seguintes informações:\n",
        "* Razão social da companhia aérea\n",
        "* Nome Aeroporto de Origem\n",
        "* ICAO do aeroporto de origem\n",
        "* Estado/UF do aeroporto de origem\n",
        "* Nome do Aeroporto de Destino\n",
        "* ICAO do Aeroporto de destino\n",
        "* Estado/UF do aeroporto de destino"
      ],
      "metadata": {
        "id": "ZaIePmq9osfN"
      }
    },
    {
      "cell_type": "code",
      "source": [
        "# Views\n",
        "df_air_cia.createOrReplaceTempView(\"empresa\")\n",
        "df_aerodromos_origem.createOrReplaceTempView(\"origem\")\n",
        "df_aerodromos_destino.createOrReplaceTempView(\"destino\")\n",
        "df_vra.createOrReplaceTempView('voos')"
      ],
      "metadata": {
        "id": "HtgCYLQCMM90"
      },
      "execution_count": 15,
      "outputs": []
    },
    {
      "cell_type": "code",
      "source": [
        "str_query = \"\"\"select\n",
        "                emp.razao_social,\n",
        "                org.name name_origem,\n",
        "                org.icao icao_origem, \n",
        "                org.state state_origem, \n",
        "                org.country_iso uf_origem,\n",
        "                dest.name name_dest,\n",
        "                dest.icao icao_dest,\n",
        "                dest.state state_dest,\n",
        "                dest.country_iso uf_dest,\n",
        "                count(concat(vo.icaoaerodromo_origem,\"-\",vo.icaoaerodromo_destino)) as total_voos\n",
        "                from voos vo\n",
        "                left join empresa emp on emp.icao = vo.icaoempresa_aerea\n",
        "                left join origem org on vo.icaoaerodromo_origem = org.icao\n",
        "                left join destino dest on vo.icaoaerodromo_destino = dest.icao\n",
        "                group by 1,2,3,4,5,6,7,8,9\n",
        "                order by total_voos desc\"\"\"\n",
        "\n",
        "\n",
        "# Quantidade de voos por Empresa.                       \n",
        "contagem_voos = spark.sql(str_query).show(5)\n",
        "                                "
      ],
      "metadata": {
        "id": "Bl4Dq8ZpTwsk",
        "colab": {
          "base_uri": "https://localhost:8080/"
        },
        "outputId": "a15d759e-61ee-4655-a6bd-bfad7c47e382"
      },
      "execution_count": 16,
      "outputs": [
        {
          "output_type": "stream",
          "name": "stdout",
          "text": [
            "+--------------------+--------------------+-----------+--------------+---------+--------------------+---------+--------------+-------+----------+\n",
            "|        razao_social|         name_origem|icao_origem|  state_origem|uf_origem|           name_dest|icao_dest|    state_dest|uf_dest|total_voos|\n",
            "+--------------------+--------------------+-----------+--------------+---------+--------------------+---------+--------------+-------+----------+\n",
            "|TAM LINHAS AÉREAS...|São Paulo–Congonh...|       SBSP|     São Paulo|       BR|Santos Dumont Air...|     SBRJ|Rio de Janeiro|     BR|      2744|\n",
            "|TAM LINHAS AÉREAS...|Santos Dumont Air...|       SBRJ|Rio de Janeiro|       BR|São Paulo–Congonh...|     SBSP|     São Paulo|     BR|      2741|\n",
            "|AZUL LINHAS AÉREA...|Viracopos/Campina...|       SBKP|     São Paulo|       BR|Santos Dumont Air...|     SBRJ|Rio de Janeiro|     BR|      2540|\n",
            "|AZUL LINHAS AÉREA...|Santos Dumont Air...|       SBRJ|Rio de Janeiro|       BR|Viracopos/Campina...|     SBKP|     São Paulo|     BR|      2539|\n",
            "|GOL LINHAS AÉREAS...|Santos Dumont Air...|       SBRJ|Rio de Janeiro|       BR|São Paulo–Congonh...|     SBSP|     São Paulo|     BR|      2514|\n",
            "+--------------------+--------------------+-----------+--------------+---------+--------------------+---------+--------------+-------+----------+\n",
            "only showing top 5 rows\n",
            "\n"
          ]
        }
      ]
    },
    {
      "cell_type": "markdown",
      "source": [
        "Para cada aeroporto trazer a companhia aérea com maior atuação no ano com as seguintes informações:\n",
        "* Nome do Aeroporto\n",
        "* ICAO do Aeroporto\n",
        "* Razão social da Companhia Aérea\n",
        "* Quantidade de Rotas à partir daquele aeroporto\n",
        "* Quantidade de Rotas com destino àquele aeroporto\n",
        "* Quantidade total de pousos e decolagens naquele aeroporto"
      ],
      "metadata": {
        "id": "3g7hgA-yo8Q8"
      }
    },
    {
      "cell_type": "code",
      "source": [
        "#quantas empresas vooaram nesse aeroporto durante o ano.\n",
        "str_query = \"\"\"select\n",
        "                org.name name_origem,\n",
        "                date_part('year',to_date(partida_real)) as ano,\n",
        "                emp.razao_social,\n",
        "                count(vo.icaoempresa_aerea) total_voos\n",
        "                from voos vo\n",
        "                left join origem org on vo.icaoaerodromo_origem = org.icao\n",
        "                left join empresa emp on emp.icao = vo.icaoempresa_aerea\n",
        "                group by 1,2,3 order by total_voos desc\n",
        "                \"\"\"\n",
        "\n",
        "df_contagem_voos = spark.sql(str_query)\n",
        "df_contagem_voos.show(5)"
      ],
      "metadata": {
        "colab": {
          "base_uri": "https://localhost:8080/"
        },
        "id": "T5FPjX4IH_HD",
        "outputId": "4fe12723-f41f-48a4-da4c-154f84046caa"
      },
      "execution_count": 37,
      "outputs": [
        {
          "output_type": "stream",
          "name": "stdout",
          "text": [
            "+--------------------+----+--------------------+----------+\n",
            "|         name_origem| ano|        razao_social|total_voos|\n",
            "+--------------------+----+--------------------+----------+\n",
            "|Viracopos/Campina...|2021|AZUL LINHAS AÉREA...|     40758|\n",
            "|São Paulo–Guarulh...|2021|TAM LINHAS AÉREAS...|     32998|\n",
            "|São Paulo–Guarulh...|2021|GOL LINHAS AÉREAS...|     22731|\n",
            "|Tancredo Neves In...|2021|AZUL LINHAS AÉREA...|     20732|\n",
            "|Recife/Guararapes...|2021|AZUL LINHAS AÉREA...|     20213|\n",
            "+--------------------+----+--------------------+----------+\n",
            "only showing top 5 rows\n",
            "\n"
          ]
        }
      ]
    },
    {
      "cell_type": "code",
      "source": [
        "str_query = \"\"\"\n",
        "                select icao,\n",
        "                count(distinct \n",
        "                    case when tipo = 'origem' then numero_voo else null end) as qtd_voo_origem,\n",
        "                count(distinct\n",
        "                    case when tipo = 'destino' then numero_voo else null end) as qtd_voo_destino\n",
        "                from \n",
        "                (select vo.numero_voo, vo.icaoaerodromo_origem as icao,'origem' as tipo\n",
        "                from voos vo\n",
        "                inner join\n",
        "                (select\n",
        "                vo.numero_voo,\n",
        "                min(partida_real) min_partida_real\n",
        "                from voos vo\n",
        "                group by numero_voo) as pr\n",
        "                on vo.numero_voo = pr.numero_voo\n",
        "                and vo.partida_real = pr.min_partida_real\n",
        "                union\n",
        "                select vo.numero_voo, vo.icaoaerodromo_destino as icao , 'destino' as tipo \n",
        "                from voos vo\n",
        "                inner join\n",
        "                (select\n",
        "                vo.numero_voo,\n",
        "                max(chegada_real) max_chegada_real\n",
        "                from voos vo\n",
        "                group by numero_voo) as cr\n",
        "                on vo.numero_voo = cr.numero_voo\n",
        "                and vo.chegada_real = cr.max_chegada_real)\n",
        "                group by icao\n",
        "                \n",
        "                \"\"\"\n",
        "\n",
        "                       \n",
        "df_contagem_rotas = spark.sql(str_query)\n",
        "df_contagem_rotas.show(5)"
      ],
      "metadata": {
        "colab": {
          "base_uri": "https://localhost:8080/"
        },
        "id": "WxjN4tFMl06q",
        "outputId": "14bf1f89-59b4-4f07-93e1-432c55fa4d2e"
      },
      "execution_count": 38,
      "outputs": [
        {
          "output_type": "stream",
          "name": "stdout",
          "text": [
            "+----+--------------+---------------+\n",
            "|icao|qtd_voo_origem|qtd_voo_destino|\n",
            "+----+--------------+---------------+\n",
            "|SBPS|            81|             71|\n",
            "|KATL|             2|              3|\n",
            "|LFPG|             7|              7|\n",
            "|SBIH|             2|              1|\n",
            "|EDDK|             1|              0|\n",
            "+----+--------------+---------------+\n",
            "only showing top 5 rows\n",
            "\n"
          ]
        }
      ]
    },
    {
      "cell_type": "code",
      "source": [
        "str_query = \"\"\" select icao, \n",
        "                sum(qtd_pousos) as qtd_pousos,\n",
        "                sum(qtd_decolagem) as qtd_decolagem\n",
        "                from\n",
        "                (select\n",
        "                vo.icaoaerodromo_destino as icao,\n",
        "                0 as qtd_decolagem,\n",
        "                count(distinct vo.numero_voo) as qtd_pousos\n",
        "                from voos vo\n",
        "                group by 1\n",
        "                union\n",
        "                select\n",
        "                vo.icaoaerodromo_origem as icao,\n",
        "                count(distinct vo.numero_voo) as qtd_decolagem,\n",
        "                0 as qtd_pousos\n",
        "                from voos vo\n",
        "                group by 1) voos\n",
        "                group by icao\n",
        "                \"\"\"\n",
        "\n",
        "                       \n",
        "df_contagem_pousos = spark.sql(str_query)\n",
        "df_contagem_pousos.show(5)"
      ],
      "metadata": {
        "colab": {
          "base_uri": "https://localhost:8080/"
        },
        "id": "oVUcg4qtAUxe",
        "outputId": "0450531b-8197-4c78-9367-1c557be5d075"
      },
      "execution_count": 39,
      "outputs": [
        {
          "output_type": "stream",
          "name": "stdout",
          "text": [
            "+----+----------+-------------+\n",
            "|icao|qtd_pousos|qtd_decolagem|\n",
            "+----+----------+-------------+\n",
            "|LYBE|         1|            0|\n",
            "|LFPG|        10|           11|\n",
            "|SBPS|       184|          182|\n",
            "|SBBU|         1|            0|\n",
            "|KATL|         4|            2|\n",
            "+----+----------+-------------+\n",
            "only showing top 5 rows\n",
            "\n"
          ]
        }
      ]
    },
    {
      "cell_type": "markdown",
      "source": [
        "#Extras:\n",
        "* Descrever qual estratégia você usaria para ingerir estes dados de forma incremental caso precise capturar esses dados a cada mes?\n",
        "    -  Utilizaria o aiflow para schedular todo o processo.\n",
        "* Justifique em cada etapa sobre a escalabilidade da tecnologia utilizada.\n",
        "    - Utilizaria pyspark e python para o processamento e ETL dos dados, aws s3 para armazenamento dos dados brutos, aws redshift para disponibilizar os dados. \n",
        "* Justifique as camadas utilizadas durante o processo de ingestão até a disponibilização dos dados.\n",
        "    - A camadas seria: a coleta/processamento, mensageria, land zone, raw zone, trusted zone, refined zone."
      ],
      "metadata": {
        "id": "l3OfuNSS29QK"
      }
    },
    {
      "cell_type": "code",
      "source": [],
      "metadata": {
        "id": "R5_3OTJl9Abj"
      },
      "execution_count": 21,
      "outputs": []
    }
  ]
}