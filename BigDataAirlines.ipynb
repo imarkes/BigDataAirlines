{
  "nbformat": 4,
  "nbformat_minor": 0,
  "metadata": {
    "colab": {
      "provenance": [],
      "collapsed_sections": [],
      "authorship_tag": "ABX9TyOdiOHKVU5Kl3PMabAHdVJ+",
      "include_colab_link": true
    },
    "kernelspec": {
      "name": "python3",
      "display_name": "Python 3"
    },
    "language_info": {
      "name": "python"
    }
  },
  "cells": [
    {
      "cell_type": "markdown",
      "metadata": {
        "id": "view-in-github",
        "colab_type": "text"
      },
      "source": [
        "<a href=\"https://colab.research.google.com/github/imarkes/BigDataAirlines/blob/main/BigDataAirlines.ipynb\" target=\"_parent\"><img src=\"https://colab.research.google.com/assets/colab-badge.svg\" alt=\"Open In Colab\"/></a>"
      ]
    },
    {
      "cell_type": "code",
      "execution_count": 1,
      "metadata": {
        "colab": {
          "base_uri": "https://localhost:8080/"
        },
        "id": "1iJdXUzG7N3S",
        "outputId": "39c19efa-582b-46d5-e09c-0b48a376c47e"
      },
      "outputs": [
        {
          "output_type": "stream",
          "name": "stdout",
          "text": [
            "Looking in indexes: https://pypi.org/simple, https://us-python.pkg.dev/colab-wheels/public/simple/\n",
            "Requirement already satisfied: pyspark in /usr/local/lib/python3.7/dist-packages (3.3.0)\n",
            "Requirement already satisfied: py4j==0.10.9.5 in /usr/local/lib/python3.7/dist-packages (from pyspark) (0.10.9.5)\n"
          ]
        }
      ],
      "source": [
        "!pip install pyspark\n"
      ]
    },
    {
      "cell_type": "code",
      "source": [
        "import pyspark\n",
        "import re\n",
        "import requests\n",
        "import unicodedata\n",
        "from pyspark.sql import SparkSession\n",
        "from pyspark.sql.functions import *\n",
        "from pyspark.sql import udf\n",
        "from pyspark.sql.types import StructType, StructField, StringType, LongType, DoubleType, DateType, TimestampType, \\\n",
        "    IntegerType\n"
      ],
      "metadata": {
        "id": "tLU1ZgAs7XFv"
      },
      "execution_count": 2,
      "outputs": []
    },
    {
      "cell_type": "code",
      "source": [
        "spark = (SparkSession\n",
        "         .builder\n",
        "         .master('local[*]')\n",
        "         .appName('BigData Airlines')\n",
        "         .getOrCreate())"
      ],
      "metadata": {
        "id": "-JT1QyQ27kLO"
      },
      "execution_count": 3,
      "outputs": []
    },
    {
      "cell_type": "markdown",
      "source": [
        "# BigData Airlines\n",
        "A Eleflow irá atender um novo cliente, a BigData Airlines, e você será o engenheiro de dados responsável por fazer a ingestão de dados e preparar algumas tabelas para os cientistas de dados e analistas de dados."
      ],
      "metadata": {
        "id": "4OlbBA4HxRQs"
      }
    },
    {
      "cell_type": "markdown",
      "source": [
        "##Carregar os dados de VRA\n",
        "* Normalizar o cabeçalho para snake case\n",
        "Salvar estes dados"
      ],
      "metadata": {
        "id": "D1fByfYVxadS"
      }
    },
    {
      "cell_type": "code",
      "source": [
        "# Carregamento dos dados de VRA\n",
        "vra_path = '/content/spark-warehouse/VRA/VRA_*.json'\n",
        "\n",
        "df_vra = (\n",
        "    spark\n",
        "    .read\n",
        "    .option('inferSchema', 'true')\n",
        "    .json(vra_path)\n",
        ")\n",
        "\n",
        "df_vra.printSchema()\n",
        "print('total de registros: ', df_vra.count())"
      ],
      "metadata": {
        "colab": {
          "base_uri": "https://localhost:8080/"
        },
        "id": "k_Zq-C9k7iXR",
        "outputId": "b0cb36d8-18d3-4602-bc0b-addfbcd74370"
      },
      "execution_count": 4,
      "outputs": [
        {
          "output_type": "stream",
          "name": "stdout",
          "text": [
            "root\n",
            " |-- ChegadaPrevista: string (nullable = true)\n",
            " |-- ChegadaReal: string (nullable = true)\n",
            " |-- CódigoAutorização: string (nullable = true)\n",
            " |-- CódigoJustificativa: string (nullable = true)\n",
            " |-- CódigoTipoLinha: string (nullable = true)\n",
            " |-- ICAOAeródromoDestino: string (nullable = true)\n",
            " |-- ICAOAeródromoOrigem: string (nullable = true)\n",
            " |-- ICAOEmpresaAérea: string (nullable = true)\n",
            " |-- NúmeroVoo: string (nullable = true)\n",
            " |-- PartidaPrevista: string (nullable = true)\n",
            " |-- PartidaReal: string (nullable = true)\n",
            " |-- SituaçãoVoo: string (nullable = true)\n",
            "\n",
            "total de registros:  535803\n"
          ]
        }
      ]
    },
    {
      "cell_type": "code",
      "source": [
        "# Normalizar o cabeçalho VRA\n",
        "def normalizer_headers_vra(words: str) -> str:\n",
        "    \"\"\"\n",
        "    :param: ChegadaPrevista\n",
        "    :return: chegada_prevista\n",
        "    \"\"\"\n",
        "    assert isinstance(words, str)\n",
        "\n",
        "    old_words = ''.join(ch for ch in unicodedata.normalize('NFKD', words)\n",
        "    if not unicodedata.combining(ch))\n",
        "\n",
        "    words = re.findall('[A-Z]*[^A-Z]*', old_words)  # split letras maiúsculas\n",
        "    \n",
        "    words = [x.lower() for x in words]\n",
        "\n",
        "    return '_'.join(words)[:-1]\n",
        "\n",
        "\n",
        "rename_cols = {col_name: normalizer_headers_vra(col_name) for col_name in df_vra.columns}\n",
        "df_vra = df_vra.select([when(col(c) == \"\", None).otherwise(col(c)).alias(rename_cols.get(c, c)) for c in df_vra.columns])\n",
        "\n"
      ],
      "metadata": {
        "id": "DF-rCXe87phy"
      },
      "execution_count": 5,
      "outputs": []
    },
    {
      "cell_type": "code",
      "source": [
        "# Visualiza cabeçalhos normalizados\n",
        "df_vra.show(40)"
      ],
      "metadata": {
        "colab": {
          "base_uri": "https://localhost:8080/"
        },
        "id": "LiqFhPzioOiJ",
        "outputId": "6028ac93-e890-4ceb-96ea-36e0bcbc8bfa"
      },
      "execution_count": 112,
      "outputs": [
        {
          "output_type": "stream",
          "name": "stdout",
          "text": [
            "+-------------------+-------------------+------------------+--------------------+-----------------+---------------------+--------------------+-----------------+----------+-------------------+-------------------+-------------+\n",
            "|   chegada_prevista|       chegada_real|codigo_autorizacao|codigo_justificativa|codigo_tipo_linha|icaoaerodromo_destino|icaoaerodromo_origem|icaoempresa_aerea|numero_voo|   partida_prevista|       partida_real| situacao_voo|\n",
            "+-------------------+-------------------+------------------+--------------------+-----------------+---------------------+--------------------+-----------------+----------+-------------------+-------------------+-------------+\n",
            "|2021-11-12 08:30:00|2021-11-12 08:24:00|                 0|                 N/A|                X|                 KORD|                SBGR|              UAL|      0844|2021-11-11 22:00:00|2021-11-11 22:14:00|    REALIZADO|\n",
            "|2021-11-15 08:30:00|2021-11-15 08:05:00|                 0|                 N/A|                X|                 KORD|                SBGR|              UAL|      0844|2021-11-14 22:00:00|2021-11-14 21:59:00|    REALIZADO|\n",
            "|2021-11-22 08:30:00|2021-11-22 08:19:00|                 0|                 N/A|                X|                 KORD|                SBGR|              UAL|      0844|2021-11-21 22:00:00|2021-11-21 22:00:00|    REALIZADO|\n",
            "|2021-11-19 08:30:00|2021-11-19 08:17:00|                 0|                 N/A|                X|                 KORD|                SBGR|              UAL|      0844|2021-11-18 22:00:00|2021-11-18 22:01:00|    REALIZADO|\n",
            "|2021-11-21 08:30:00|2021-11-21 08:23:00|                 0|                 N/A|                X|                 KORD|                SBGR|              UAL|      0844|2021-11-20 22:00:00|2021-11-20 22:02:00|    REALIZADO|\n",
            "|2021-11-23 08:30:00|2021-11-23 08:47:00|                 0|                 N/A|                X|                 KORD|                SBGR|              UAL|      0844|2021-11-22 22:00:00|2021-11-22 22:09:00|    REALIZADO|\n",
            "|2021-11-24 08:30:00|2021-11-24 08:11:00|                 0|                 N/A|                X|                 KORD|                SBGR|              UAL|      0844|2021-11-23 22:00:00|2021-11-23 22:17:00|    REALIZADO|\n",
            "|2021-11-26 08:30:00|2021-11-26 08:40:00|                 0|                 N/A|                X|                 KORD|                SBGR|              UAL|      0844|2021-11-25 22:00:00|2021-11-25 21:58:00|    REALIZADO|\n",
            "|2021-11-28 08:30:00|2021-11-28 08:28:00|                 0|                 N/A|                X|                 KORD|                SBGR|              UAL|      0844|2021-11-27 22:00:00|2021-11-27 21:54:00|    REALIZADO|\n",
            "|2021-11-30 08:30:00|2021-11-30 08:21:00|                 0|                 N/A|                X|                 KORD|                SBGR|              UAL|      0844|2021-11-29 22:00:00|2021-11-29 22:00:00|    REALIZADO|\n",
            "|2021-12-01 08:30:00|2021-12-01 08:31:00|                 0|                 N/A|                X|                 KORD|                SBGR|              UAL|      0844|2021-11-30 22:00:00|2021-11-30 22:15:00|    REALIZADO|\n",
            "|2021-11-16 08:30:00|2021-11-16 08:10:00|                 0|                 N/A|                X|                 KORD|                SBGR|              UAL|      0844|2021-11-15 22:00:00|2021-11-15 21:56:00|    REALIZADO|\n",
            "|2021-11-17 08:30:00|2021-11-17 07:56:00|                 0|                 N/A|                X|                 KORD|                SBGR|              UAL|      0844|2021-11-16 22:00:00|2021-11-16 22:02:00|    REALIZADO|\n",
            "|2021-11-29 08:30:00|2021-11-29 08:12:00|                 0|                 N/A|                X|                 KORD|                SBGR|              UAL|      0844|2021-11-28 22:00:00|2021-11-28 21:55:00|    REALIZADO|\n",
            "|2021-11-01 10:40:00|2021-11-01 10:33:00|                 0|                 N/A|                X|                 SBGR|                KORD|              UAL|      0845|2021-11-01 00:40:00|2021-11-01 00:31:00|    REALIZADO|\n",
            "|2021-11-02 10:40:00|2021-11-02 10:36:00|                 0|                 N/A|                X|                 SBGR|                KORD|              UAL|      0845|2021-11-02 00:40:00|2021-11-02 00:36:00|    REALIZADO|\n",
            "|2021-11-04 10:40:00|2021-11-04 10:32:00|                 0|                 N/A|                X|                 SBGR|                KORD|              UAL|      0845|2021-11-04 00:40:00|2021-11-04 00:47:00|    REALIZADO|\n",
            "|2021-11-06 10:40:00|2021-11-06 12:38:00|                 0|                 N/A|                X|                 SBGR|                KORD|              UAL|      0845|2021-11-06 00:40:00|2021-11-06 02:27:00|    REALIZADO|\n",
            "|2021-11-08 10:40:00|2021-11-08 10:23:00|                 0|                 N/A|                X|                 SBGR|                KORD|              UAL|      0845|2021-11-08 00:40:00|2021-11-08 00:28:00|    REALIZADO|\n",
            "|2021-11-07 10:40:00|2021-11-07 10:44:00|                 0|                 N/A|                X|                 SBGR|                KORD|              UAL|      0845|2021-11-07 00:40:00|2021-11-07 00:44:00|    REALIZADO|\n",
            "|2021-11-09 10:40:00|2021-11-09 10:34:00|                 0|                 N/A|                X|                 SBGR|                KORD|              UAL|      0845|2021-11-09 00:40:00|2021-11-09 00:37:00|    REALIZADO|\n",
            "|2021-11-14 10:40:00|2021-11-14 10:27:00|                 0|                 N/A|                X|                 SBGR|                KORD|              UAL|      0845|2021-11-14 00:40:00|2021-11-14 00:38:00|    REALIZADO|\n",
            "|2021-11-15 10:40:00|2021-11-15 10:37:00|                 0|                 N/A|                X|                 SBGR|                KORD|              UAL|      0845|2021-11-15 00:40:00|2021-11-15 00:34:00|    REALIZADO|\n",
            "|2021-11-11 10:40:00|2021-11-11 10:31:00|                 0|                 N/A|                X|                 SBGR|                KORD|              UAL|      0845|2021-11-11 00:40:00|2021-11-11 00:34:00|    REALIZADO|\n",
            "|2021-11-02 14:40:00|2021-11-02 14:32:00|                 0|                 N/A|                N|                 SBAR|                SBGR|              TAM|      3268|2021-11-02 12:05:00|2021-11-02 12:06:00|    REALIZADO|\n",
            "|2021-11-16 10:40:00|2021-11-16 10:51:00|                 0|                 N/A|                X|                 SBGR|                KORD|              UAL|      0845|2021-11-16 00:40:00|2021-11-16 00:59:00|    REALIZADO|\n",
            "|2021-11-13 10:40:00|2021-11-13 10:55:00|                 0|                 N/A|                X|                 SBGR|                KORD|              UAL|      0845|2021-11-13 00:40:00|2021-11-13 00:45:00|    REALIZADO|\n",
            "|2021-11-18 10:40:00|2021-11-18 10:41:00|                 0|                 N/A|                X|                 SBGR|                KORD|              UAL|      0845|2021-11-18 00:40:00|2021-11-18 00:38:00|    REALIZADO|\n",
            "|2021-11-20 10:40:00|2021-11-20 10:37:00|                 0|                 N/A|                X|                 SBGR|                KORD|              UAL|      0845|2021-11-20 00:40:00|2021-11-20 00:39:00|    REALIZADO|\n",
            "|2021-11-22 10:40:00|2021-11-22 10:52:00|                 0|                 N/A|                X|                 SBGR|                KORD|              UAL|      0845|2021-11-22 00:40:00|2021-11-22 01:10:00|    REALIZADO|\n",
            "|2021-11-21 10:40:00|2021-11-21 10:40:00|                 0|                 N/A|                X|                 SBGR|                KORD|              UAL|      0845|2021-11-21 00:40:00|2021-11-21 00:39:00|    REALIZADO|\n",
            "|2021-11-29 10:40:00|2021-11-29 10:21:00|                 0|                 N/A|                X|                 SBGR|                KORD|              UAL|      0845|2021-11-29 00:40:00|2021-11-29 00:45:00|    REALIZADO|\n",
            "|2021-11-23 10:40:00|2021-11-23 10:47:00|                 0|                 N/A|                X|                 SBGR|                KORD|              UAL|      0845|2021-11-23 00:40:00|2021-11-23 00:44:00|    REALIZADO|\n",
            "|2021-11-25 10:40:00|2021-11-25 10:40:00|                 0|                 N/A|                X|                 SBGR|                KORD|              UAL|      0845|2021-11-25 00:40:00|2021-11-25 00:33:00|    REALIZADO|\n",
            "|2021-11-27 10:40:00|2021-11-27 10:36:00|                 0|                 N/A|                X|                 SBGR|                KORD|              UAL|      0845|2021-11-27 00:40:00|2021-11-27 00:45:00|    REALIZADO|\n",
            "|2021-11-28 10:40:00|2021-11-28 10:23:00|                 0|                 N/A|                X|                 SBGR|                KORD|              UAL|      0845|2021-11-28 00:40:00|2021-11-28 00:39:00|    REALIZADO|\n",
            "|2021-11-02 15:50:00|               null|                 0|                 N/A|                I|                 SBFZ|                LFPG|              AFR|      0416|2021-11-02 06:30:00|               null|NÃO INFORMADO|\n",
            "|2021-11-30 10:40:00|2021-11-30 11:08:00|                 0|                 N/A|                X|                 SBGR|                KORD|              UAL|      0845|2021-11-30 00:40:00|2021-11-30 01:17:00|    REALIZADO|\n",
            "|2021-11-12 15:50:00|               null|                 0|                 N/A|                I|                 SBFZ|                LFPG|              AFR|      0416|2021-11-12 06:30:00|               null|NÃO INFORMADO|\n",
            "|2021-11-05 15:50:00|               null|                 0|                 N/A|                I|                 SBFZ|                LFPG|              AFR|      0416|2021-11-05 06:30:00|               null|NÃO INFORMADO|\n",
            "+-------------------+-------------------+------------------+--------------------+-----------------+---------------------+--------------------+-----------------+----------+-------------------+-------------------+-------------+\n",
            "only showing top 40 rows\n",
            "\n"
          ]
        }
      ]
    },
    {
      "cell_type": "markdown",
      "source": [
        "## Carregar dos dados de AIR_CIA\n",
        "* Normalizar o cabeçalho para snake case\n",
        "* Separar a coluna 'ICAO IATA' em duas colunas, seu conteúdo está separado por espaço e pode não conter o código IATA, caso não contenha o código IATA, deixe o valor nulo.\n",
        "* Salvar estes dados"
      ],
      "metadata": {
        "id": "G4C4g2XkxiLh"
      }
    },
    {
      "cell_type": "code",
      "source": [
        "#Carregamento dos dados de AIR_CIA\n",
        "AIE_CIA_PATH = '/content/spark-warehouse/AIR_CIA/ANAC_20211220_*.csv'\n",
        "\n",
        "df_air_cia = (\n",
        "    spark\n",
        "    .read\n",
        "    .option('header', 'true')\n",
        "    .option('inferSchema', 'true')\n",
        "    .option('sep', ';')\n",
        "    .csv(AIE_CIA_PATH)\n",
        ")\n",
        "\n",
        "df_air_cia.printSchema()\n",
        "print('total de registros: ', df_air_cia.count())"
      ],
      "metadata": {
        "colab": {
          "base_uri": "https://localhost:8080/"
        },
        "id": "lALpbQLY8gYk",
        "outputId": "cc01c19a-cc88-4be3-fcdf-b8b3ee9ccef2"
      },
      "execution_count": 7,
      "outputs": [
        {
          "output_type": "stream",
          "name": "stdout",
          "text": [
            "root\n",
            " |-- Razão Social: string (nullable = true)\n",
            " |-- ICAO IATA: string (nullable = true)\n",
            " |-- CNPJ: string (nullable = true)\n",
            " |-- Atividades Aéreas: string (nullable = true)\n",
            " |-- Endereço Sede: string (nullable = true)\n",
            " |-- Telefone: string (nullable = true)\n",
            " |-- E-Mail: string (nullable = true)\n",
            " |-- Decisão Operacional: string (nullable = true)\n",
            " |-- Data Decisão Operacional: string (nullable = true)\n",
            " |-- Validade Operacional: string (nullable = true)\n",
            "\n",
            "total de registros:  20\n"
          ]
        }
      ]
    },
    {
      "cell_type": "code",
      "source": [
        "# Normalizar o cabeçalho AIR_CIA\n",
        "def normalizer_headers(words: str) -> str:\n",
        "    \"\"\"\n",
        "    :param: Atividades Aéreas\n",
        "    :return: atividades_aereas\n",
        "    \"\"\"\n",
        "    assert isinstance(words, str)\n",
        "\n",
        "    old_words = ''.join(old for old in unicodedata.normalize('NFKD', words)\n",
        "    if not unicodedata.combining(old))\n",
        "    return old_words.replace(' ', '_').replace('-','_').lower()\n",
        "\n",
        "rename_cols = {col_name: normalizer_headers(col_name) for col_name in df_air_cia.columns}\n",
        "df_air_cia = df_air_cia.select([when(col(c) == \"\", None).otherwise(col(c)).alias(rename_cols.get(c, c)) for c in df_air_cia.columns])\n",
        "\n",
        "# Visualiza cabeçalhos normalizados\n",
        "print(df_air_cia.columns)"
      ],
      "metadata": {
        "colab": {
          "base_uri": "https://localhost:8080/"
        },
        "id": "ds6zoDSvQ2Mi",
        "outputId": "cdd4e220-03ec-401d-d60c-ef120f0e22b7"
      },
      "execution_count": 8,
      "outputs": [
        {
          "output_type": "stream",
          "name": "stdout",
          "text": [
            "['razao_social', 'icao_iata', 'cnpj', 'atividades_aereas', 'endereco_sede', 'telefone', 'e_mail', 'decisao_operacional', 'data_decisao_operacional', 'validade_operacional']\n"
          ]
        }
      ]
    },
    {
      "cell_type": "code",
      "source": [
        "# Separar a coluna 'ICAO IATA'\n",
        "df_air_cia = df_air_cia.withColumn('icao', substring('icao_iata', 0,3))\\\n",
        "                        .withColumn('iata', when(col('icao_iata') == '', None).otherwise(substring('icao_iata', 4,6)))\\\n",
        "                        .drop(col('icao_iata'))\n",
        "df_air_cia.show(5)"
      ],
      "metadata": {
        "colab": {
          "base_uri": "https://localhost:8080/"
        },
        "id": "ytvXei8LSwhx",
        "outputId": "df5039ea-9152-4fe0-8d03-5dbf2ad7537a"
      },
      "execution_count": 9,
      "outputs": [
        {
          "output_type": "stream",
          "name": "stdout",
          "text": [
            "+--------------------+------------------+--------------------+--------------------+--------------------+--------------------+--------------------+------------------------+--------------------+----+----+\n",
            "|        razao_social|              cnpj|   atividades_aereas|       endereco_sede|            telefone|              e_mail| decisao_operacional|data_decisao_operacional|validade_operacional|icao|iata|\n",
            "+--------------------+------------------+--------------------+--------------------+--------------------+--------------------+--------------------+------------------------+--------------------+----+----+\n",
            "|ABSA - AEROLINHAS...|00.074.635/0001-33|TRANSPORTE AÉREO ...|AEROPORTO INTERNA...|      (11) 5582-8055|      gar@tam.com.br|       DECISÃO Nº 41|              22/04/2015|          23/04/2025| LTG|  M3|\n",
            "|AEROSUL TÁXI AÉRE...|27.315.694/0001-02|SERVIÇOS AÉREOS P...|RODOVIA PR 218, K...|      (43) 3176-4030|operacoes@aerosul...|      DECISÃO Nº 282|              10/02/2021|                null| ASO|  2S|\n",
            "|ASTA LINHAS AÉREA...|12.703.737/0001-50|SERVIÇOS AÉREOS P...|AV GOVERNADOR JOÃ...|(65) 3614-2684 / ...|                null|      DECISÃO Nº 115|              31/07/2019|          02/08/2024| SUL|  0A|\n",
            "|ATA - AEROTÁXI AB...|14.674.451/0001-19|TÁXI-AÉREO, TRANS...| PÇA. GAGO COUTIN...|(71) 34629600 / (...|guilherme@abaete....|       DECISÃO Nº 36|              05/03/2020|                null| ABJ|    |\n",
            "|AZUL CONECTA LTDA...|04.263.318/0001-16|TRANSPORTE AÉREO ...|AVENIDA EMILIO AN...|(11) 45822355/ (1...|                null|Decisão nº 14, de...|              25/01/2018|          29/01/2028| ACN|  2F|\n",
            "|AZUL LINHAS AÉREA...|09.296.295/0001-60|TRANSPORTE AÉREO ...|AV. MARCOS PENTEA...| (55) (11) 4134-9...|vanessa.reis@voea...|      Decisão nº 178|              20/11/2018|          21/11/2028| AZU|  AD|\n",
            "|GOL LINHAS AÉREAS...|07.575.651/0001-59|TRANSPORTE AÉREO ...|PRAÇA SENADOR SAL...|(11) 5098-2990 / ...|rddfonseca@voegol...|      DECISÃO Nº 156|              05/11/2019|                null| GLO|  G3|\n",
            "|MAP TRANSPORTES A...|10.483.635/0001-40|TRANSPORTE AÉREO ...|AVENIDA SANTOS DU...|       (92) 36521620|contabil@voemap.c...|       DECISÃO Nº 89|              14/08/2012|          17/08/2022| PAM|  7M|\n",
            "|MODERN TRANSPORTE...|03.887.831/0001-15|TRANSPORTE AÉREO ...|AVENIDA PREFEITO ...|(21) 2272-9272 / ...|juridico@modern.c...|       DECISÃO Nº 79|              31/05/2017|          02/06/2027| MWM|  WD|\n",
            "|PASSAREDO TRANSPO...|00.512.777/0001-35|TRANSPORTE AÉREO ...|SETOR DE HANGARES...|(16) 3514-7127 / ...|juridico@voepass....|      DECISÃO Nº 105|              09/06/2020|                null| PTB|  2Z|\n",
            "|SIDERAL LINHAS AÉ...|10.919.908/0001-57|TRANSPORTE AÉREO ...|RODOVIA CONTORNO ...|(41) 3116-9000 / ...|office@siderallin...|       DECISÃO Nº 37|              05/03/2020|          06/03/2025| SID|  0S|\n",
            "|TAM LINHAS AÉREAS...|02.012.862/0001-60|TRANSPORTE AÉREO ...|RUA ÁTICA , N° 67...|(11) 5582-8055 / ...|   gar@tam.com.br   |      DECISÃO Nº 366|              07/07/2021|          09/11/2031| TAM|  JJ|\n",
            "|TOTAL LINHAS AÉRE...|32.068.363/0001-55|SERVIÇOS AÉREOS P...|AV. SENADOR SALGA...|(41) 3371-8200 / ...|geraldo.antonio@t...|      DECISÃO Nº 260|              12/01/2021|          14/01/2031| TTL|  L1|\n",
            "|AEROSUL TÁXI AÉRE...|27.315.694/0001-02|SERVIÇOS AÉREOS P...|RODOVIA PR 218, K...|      (43) 3176-4030|operacoes@aerosul...|      DECISÃO Nº 282|              10/02/2021|                null| ASO|  2S|\n",
            "|ATA - AEROTÁXI AB...|14.674.451/0001-19|TÁXI-AÉREO, TRANS...| PÇA. GAGO COUTIN...|(71) 34629600 / (...|guilherme@abaete....|       DECISÃO Nº 36|              05/03/2020|                null| ABJ|    |\n",
            "|OMNI TÁXI AÉREO S.A.|03.670.763/0001-38|AEROFOTOGRAFIA, A...|AV. AYRTON SENNA,...|     (61) 98335-3444|lira@plfconsultor...|      DECISÃO Nº 100|              10/07/2019|          12/07/2024| OMI|  O1|\n",
            "| PRIME TÁXI AIR LTDA|23.568.370/0001-25|TÁXI-AÉREO, TRANS...|AL. RIO NEGRO, 58...|(11) 41958307 / (...|mmatta@primefract...|      DECISÃO Nº 237|              17/12/2020|          18/12/2025|null|null|\n",
            "|SIDERAL LINHAS AÉ...|10.919.908/0001-57|TRANSPORTE AÉREO ...|RODOVIA CONTORNO ...|(41) 3116-9000 / ...|office@siderallin...|       DECISÃO Nº 37|              05/03/2020|          06/03/2025| SID|  0S|\n",
            "|RIMA - RIO MADEIR...|04.778.630/0001-42|LIGAÇÃO AÉREA SIS...|AV. LAURO SODRÉ, ...|      (69) 3225-8000|                null|      DECISÃO Nº 116|              26/07/2017|          27/07/2022| RIM|  0R|\n",
            "|RTS - ROTA DO SOL...|01.904.715/0001-31|LIGAÇÃO AÉREA SIS...|PRAÇA EDUARDO GOM...|      (85) 3272-3555|quadros@voerotado...|       DECISÃO Nº 21|              13/02/2019|          15/02/2024| CKP|    |\n",
            "+--------------------+------------------+--------------------+--------------------+--------------------+--------------------+--------------------+------------------------+--------------------+----+----+\n",
            "\n"
          ]
        }
      ]
    },
    {
      "cell_type": "markdown",
      "source": [
        "## Criar nova tabela aerodromos\n",
        "* Através da API https://rapidapi.com/Active-api/api/airport-info/ trazer os aeródramos através do código ICAO presente nos dados de VRA.\n",
        "* Salvar estes dados"
      ],
      "metadata": {
        "id": "JzujXfsMx1Gq"
      }
    },
    {
      "cell_type": "code",
      "source": [
        "# Tabela aerodromos baseados no codgos ICAO VRA\n",
        "def get_data_api(codgos):\n",
        "    \"\"\"Get data URL.\"\"\"\n",
        "    try:\n",
        "        url = \"https://airport-info.p.rapidapi.com/airport\"\n",
        "        headers = {\n",
        "            'x-rapidapi-host': \"airport-info.p.rapidapi.com\",\n",
        "            'x-rapidapi-key': \"4e66b5eee7mshe07cecc516f5f82p1d7870jsnece9b9399d9e\"\n",
        "        }\n",
        "        response = []\n",
        "        for cod in codgos:\n",
        "            querystring = {\"icao\": cod}\n",
        "            resp = requests.request(\"GET\", url, headers=headers, params=querystring).json()\n",
        "\n",
        "            # valida o codgo icao.\n",
        "            if not 'error' in resp:\n",
        "\n",
        "                # trata o name\n",
        "                resp['name'] = str(resp['name']).replace(\"'\", '')\n",
        "\n",
        "                # trata street\n",
        "                resp['street'] = str(resp['street']).replace(\"'\", '')\n",
        "                \n",
        "                response.append(resp)\n",
        "       \n",
        "        return response\n",
        "\n",
        "    except Exception as e:\n",
        "        print(f'Não foi possivel obter os dados da requisição HTTP.. Erro: {e}')\n",
        "\n"
      ],
      "metadata": {
        "id": "OXu9viNdURKC"
      },
      "execution_count": 10,
      "outputs": []
    },
    {
      "cell_type": "code",
      "source": [
        "# codgos ICAO distintos\n",
        "filter_icao_vra_origem = df_vra.select('icaoaerodromo_origem').distinct()\n",
        "filter_icao_vra_destino = df_vra.select('icaoaerodromo_destino').distinct()\n",
        "\n",
        "# lista de codgos\n",
        "icao_vra_origem=filter_icao_vra_origem.collect()\n",
        "icao_vra_destino=filter_icao_vra_destino.collect()\n",
        "\n",
        "# Info aerodromos\n",
        "aerodromos_origem = get_data_api(icao_vra_origem)\n",
        "\n",
        "aerodromos_destino = get_data_api(icao_vra_destino)\n"
      ],
      "metadata": {
        "id": "IQBWMZinUPjs"
      },
      "execution_count": 29,
      "outputs": []
    },
    {
      "cell_type": "code",
      "source": [
        "# Tratando os dados\n",
        "def cast_col(data,ncol=None):\n",
        "    cast = [c[ncol] if c[ncol] != 0 else 0.0 for c in data]\n",
        "    for i in data:\n",
        "        i[ncol] = cast\n",
        "    return data\n",
        "\n",
        "aerodromos_origem = cast_col(aerodromos_origem, 'latitude')\n",
        "aerodromos_origem = cast_col(aerodromos_origem, 'longitude')\n",
        "aerodromos_destino = cast_col(aerodromos_destino, 'latitude')\n",
        "aerodromos_destino = cast_col(aerodromos_destino, 'longitude')\n"
      ],
      "metadata": {
        "id": "tD12Ix7R-wUK"
      },
      "execution_count": 98,
      "outputs": []
    },
    {
      "cell_type": "code",
      "source": [
        "# Salvando os dataframes\n",
        "df_aerodromos_origem = spark.createDataFrame(aerodromos_origem)\n",
        "df_aerodromos_origem.show(5)"
      ],
      "metadata": {
        "colab": {
          "base_uri": "https://localhost:8080/"
        },
        "id": "C25tRJm8J1HR",
        "outputId": "92243dd2-c201-47c1-81ed-7582497d71ec"
      },
      "execution_count": 106,
      "outputs": [
        {
          "output_type": "stream",
          "name": "stdout",
          "text": [
            "+----------------+-------------+-----------+-------------------+----+----+----+--------------------+--------------------+--------------------+--------------------+-----------------+-----------+-------------+--------------------+-------------+----+--------------------+\n",
            "|            city|      country|country_iso|             county|iata|icao|  id|            latitude|            location|           longitude|                name|            phone|postal_code|        state|              street|street_number| uct|             website|\n",
            "+----------------+-------------+-----------+-------------------+----+----+----+--------------------+--------------------+--------------------+--------------------+-----------------+-----------+-------------+--------------------+-------------+----+--------------------+\n",
            "|Roissy-en-France|       France|         FR|                   | CDG|LFPG|1213|[[49.00969, -16.4...|Paris, Île-de-Fra...|[[2.5479245, -39....|Charles de Gaulle...|+33 1 70 36 39 50|      95700|Île-de-France|                    |             | 120|http://www.parisa...|\n",
            "|                |       Brazil|         BR|       Porto Seguro| BPS|SBPS| 908|[[49.00969, -16.4...|Porto Seguro, Bah...|[[2.5479245, -39....|Porto Seguro Airport| +55 73 3288-1880|  45810-000|        Bahia|Rua Primeiro de Maio|           68|-180|http://www.aeropo...|\n",
            "|         Atlanta|United States|         US|                   | ATL|KATL| 410|[[49.00969, -16.4...|Atlanta, Georgia,...|[[2.5479245, -39....|Hartsfield–Jackso...|  +1 800-897-1910|      30320|      Georgia|North Terminal Pa...|         6000|-240| http://www.atl.com/|\n",
            "|                |       Brazil|         BR|           Itaituba| ITB|SBIH|3301|[[49.00969, -16.4...|Itaituba, Pará, B...|[[2.5479245, -39....|    Itaituba Airport|                 |           |State of Pará|                    |             |-180|                    |\n",
            "|                |       Brazil|         BR|São José dos Campos| SJK|SBSJ|6811|[[49.00969, -16.4...|São José dos Camp...|[[2.5479245, -39....|Professor Urbano ...| +55 12 3946-3000|  12227-000|    São Paulo|Avenida Brigadeir...|         1941|-180|http://www.infrae...|\n",
            "+----------------+-------------+-----------+-------------------+----+----+----+--------------------+--------------------+--------------------+--------------------+-----------------+-----------+-------------+--------------------+-------------+----+--------------------+\n",
            "only showing top 5 rows\n",
            "\n"
          ]
        }
      ]
    },
    {
      "cell_type": "code",
      "source": [
        "df_aerodromos_destino = spark.createDataFrame(aerodromos_destino)\n",
        "df_aerodromos_destino.show(5)"
      ],
      "metadata": {
        "colab": {
          "base_uri": "https://localhost:8080/"
        },
        "id": "sQ598T-OmLQk",
        "outputId": "7a6e51bf-dcd9-4c24-ffdb-a84d92d091d6"
      },
      "execution_count": 105,
      "outputs": [
        {
          "output_type": "stream",
          "name": "stdout",
          "text": [
            "+----------------+-------------+-----------+-------------------+----+----+----+--------------------+--------------------+--------------------+--------------------+-----------------+-----------+-------------+--------------------+-------------+----+--------------------+\n",
            "|            city|      country|country_iso|             county|iata|icao|  id|            latitude|            location|           longitude|                name|            phone|postal_code|        state|              street|street_number| uct|             website|\n",
            "+----------------+-------------+-----------+-------------------+----+----+----+--------------------+--------------------+--------------------+--------------------+-----------------+-----------+-------------+--------------------+-------------+----+--------------------+\n",
            "|Roissy-en-France|       France|         FR|                   | CDG|LFPG|1213|[[49.00969, -16.4...|Paris, Île-de-Fra...|[[2.5479245, -39....|Charles de Gaulle...|+33 1 70 36 39 50|      95700|Île-de-France|                    |             | 120|http://www.parisa...|\n",
            "|                |       Brazil|         BR|       Porto Seguro| BPS|SBPS| 908|[[49.00969, -16.4...|Porto Seguro, Bah...|[[2.5479245, -39....|Porto Seguro Airport| +55 73 3288-1880|  45810-000|        Bahia|Rua Primeiro de Maio|           68|-180|http://www.aeropo...|\n",
            "|         Atlanta|United States|         US|                   | ATL|KATL| 410|[[49.00969, -16.4...|Atlanta, Georgia,...|[[2.5479245, -39....|Hartsfield–Jackso...|  +1 800-897-1910|      30320|      Georgia|North Terminal Pa...|         6000|-240| http://www.atl.com/|\n",
            "|                |       Brazil|         BR|           Itaituba| ITB|SBIH|3301|[[49.00969, -16.4...|Itaituba, Pará, B...|[[2.5479245, -39....|    Itaituba Airport|                 |           |State of Pará|                    |             |-180|                    |\n",
            "|                |       Brazil|         BR|São José dos Campos| SJK|SBSJ|6811|[[49.00969, -16.4...|São José dos Camp...|[[2.5479245, -39....|Professor Urbano ...| +55 12 3946-3000|  12227-000|    São Paulo|Avenida Brigadeir...|         1941|-180|http://www.infrae...|\n",
            "+----------------+-------------+-----------+-------------------+----+----+----+--------------------+--------------------+--------------------+--------------------+-----------------+-----------+-------------+--------------------+-------------+----+--------------------+\n",
            "only showing top 5 rows\n",
            "\n"
          ]
        }
      ]
    },
    {
      "cell_type": "markdown",
      "source": [
        "#Criar as seguintes views (Priorize o uso de SQL para esta parte):\n",
        "Para cada companhia aérea trazer a rota mais utilizada com as seguintes informações:\n",
        "* Razão social da companhia aérea\n",
        "* Nome Aeroporto de Origem\n",
        "* ICAO do aeroporto de origem\n",
        "* Estado/UF do aeroporto de origem\n",
        "* Nome do Aeroporto de Destino\n",
        "* ICAO do Aeroporto de destino\n",
        "* Estado/UF do aeroporto de destino"
      ],
      "metadata": {
        "id": "ZaIePmq9osfN"
      }
    },
    {
      "cell_type": "code",
      "source": [
        "# Views\n",
        "df_air_cia.createOrReplaceTempView(\"empresa\")\n",
        "df_aerodromos_origem.createOrReplaceTempView(\"origem\")\n",
        "df_aerodromos_destino.createOrReplaceTempView(\"destino\")\n",
        "df_vra.createOrReplaceTempView('voos')"
      ],
      "metadata": {
        "id": "HtgCYLQCMM90"
      },
      "execution_count": 113,
      "outputs": []
    },
    {
      "cell_type": "code",
      "source": [],
      "metadata": {
        "id": "wZLWykvxXvMt"
      },
      "execution_count": null,
      "outputs": []
    },
    {
      "cell_type": "code",
      "source": [
        "str_query = \"\"\"select\n",
        "                vo.icaoempresa_aerea,\n",
        "                concat(vo.icaoaerodromo_origem,\"-\",vo.icaoaerodromo_destino) as voos,\n",
        "                count(concat(vo.icaoaerodromo_origem,\"-\",vo.icaoaerodromo_destino)) as qtd_voos\n",
        "                from voos vo\n",
        "                group by 1,2\n",
        "                order by qtd_voos desc\"\"\"\n",
        "contagem_voos = spark.sql(str_query)\n",
        "contagem_voos = contagem_voos.withColumn('origem', substring('voos',0,4))\\\n",
        "                                .withColumn('destino', substring('voos', 6,10))\n",
        "                                \n",
        "contagem_voos.createOrReplaceTempView('dados_voos')\n",
        "                                "
      ],
      "metadata": {
        "id": "Bl4Dq8ZpTwsk"
      },
      "execution_count": 156,
      "outputs": []
    },
    {
      "cell_type": "code",
      "source": [
        "str_query_origem = \"\"\"select \n",
        "                    emp.razao_social,\n",
        "                    dv.*                                   \n",
        "                    from dados_voos dv\n",
        "                    left join empresa emp on emp.icao = dv.icaoempresa_aerea\n",
        "                   \n",
        "                    \"\"\"\n",
        "\n",
        "rotas_origem = spark.sql(str_query_origem).show(5)"
      ],
      "metadata": {
        "colab": {
          "base_uri": "https://localhost:8080/"
        },
        "id": "-vEMu46zuSj_",
        "outputId": "d3eabb9c-0110-4290-ae81-40af1ccc3d6b"
      },
      "execution_count": 174,
      "outputs": [
        {
          "output_type": "stream",
          "name": "stdout",
          "text": [
            "+--------------------+-----------------+---------+--------+------+-------+\n",
            "|        razao_social|icaoempresa_aerea|     voos|qtd_voos|origem|destino|\n",
            "+--------------------+-----------------+---------+--------+------+-------+\n",
            "|TAM LINHAS AÉREAS...|              TAM|SBSP-SBRJ|    2744|  SBSP|   SBRJ|\n",
            "|TAM LINHAS AÉREAS...|              TAM|SBRJ-SBSP|    2741|  SBRJ|   SBSP|\n",
            "|AZUL LINHAS AÉREA...|              AZU|SBKP-SBRJ|    2540|  SBKP|   SBRJ|\n",
            "|AZUL LINHAS AÉREA...|              AZU|SBRJ-SBKP|    2539|  SBRJ|   SBKP|\n",
            "|GOL LINHAS AÉREAS...|              GLO|SBRJ-SBSP|    2514|  SBRJ|   SBSP|\n",
            "|GOL LINHAS AÉREAS...|              GLO|SBSP-SBRJ|    2496|  SBSP|   SBRJ|\n",
            "|AZUL LINHAS AÉREA...|              AZU|SBCF-SBKP|    2487|  SBCF|   SBKP|\n",
            "|AZUL LINHAS AÉREA...|              AZU|SBKP-SBCF|    2484|  SBKP|   SBCF|\n",
            "|AZUL LINHAS AÉREA...|              AZU|SBKP-SBPA|    2470|  SBKP|   SBPA|\n",
            "|AZUL LINHAS AÉREA...|              AZU|SBPA-SBKP|    2455|  SBPA|   SBKP|\n",
            "+--------------------+-----------------+---------+--------+------+-------+\n",
            "only showing top 10 rows\n",
            "\n"
          ]
        }
      ]
    },
    {
      "cell_type": "code",
      "source": [
        "# Analisando\n",
        "str_query = \"\"\"select \n",
        "                org.name name_origem,\n",
        "                org.icao icao_origem, \n",
        "                org.state state_origem, \n",
        "                org.country_iso uf_origem,\n",
        "                dest.name name_dest,\n",
        "                dest.icao icao_dest,\n",
        "                dest.state state_dest,\n",
        "                dest.country_iso uf_dest\n",
        "                from origem org\n",
        "                left join destino dest on org.icao = dest.icao\n",
        "            \n",
        "            \"\"\"\n",
        "razao_social = spark.sql(str_query).show(5)"
      ],
      "metadata": {
        "colab": {
          "base_uri": "https://localhost:8080/"
        },
        "id": "teK0rT1usoFf",
        "outputId": "a7fa1f23-810e-441d-984b-dec2a31687ff"
      },
      "execution_count": 180,
      "outputs": [
        {
          "output_type": "stream",
          "name": "stdout",
          "text": [
            "+--------------------+-----------+--------------+---------+--------------------+---------+--------------+-------+\n",
            "|         name_origem|icao_origem|  state_origem|uf_origem|           name_dest|icao_dest|    state_dest|uf_dest|\n",
            "+--------------------+-----------+--------------+---------+--------------------+---------+--------------+-------+\n",
            "|Hartsfield–Jackso...|       KATL|       Georgia|       US|Hartsfield–Jackso...|     KATL|       Georgia|     US|\n",
            "|Memphis Internati...|       KMEM|     Tennessee|       US|Memphis Internati...|     KMEM|     Tennessee|     US|\n",
            "|Charles de Gaulle...|       LFPG| Île-de-France|       FR|Charles de Gaulle...|     LFPG| Île-de-France|     FR|\n",
            "|Francisco de Sá C...|       LPPR|Porto District|       PT|Francisco de Sá C...|     LPPR|Porto District|     PT|\n",
            "|Istanbul New Airport|       LTFM|      Istanbul|       TR|Istanbul New Airport|     LTFM|      Istanbul|     TR|\n",
            "+--------------------+-----------+--------------+---------+--------------------+---------+--------------+-------+\n",
            "only showing top 5 rows\n",
            "\n"
          ]
        }
      ]
    },
    {
      "cell_type": "code",
      "source": [],
      "metadata": {
        "id": "-BXECECjsdAB"
      },
      "execution_count": null,
      "outputs": []
    },
    {
      "cell_type": "markdown",
      "source": [
        "#Para cada aeroporto trazer a companhia aérea com maior atuação no ano com as seguintes informações:\n",
        "* Nome do Aeroporto\n",
        "* ICAO do Aeroporto\n",
        "* Razão social da Companhia Aérea\n",
        "* Quantidade de Rotas à partir daquele aeroporto\n",
        "* Quantidade de Rotas com destino àquele aeroporto\n",
        "* Quantidade total de pousos e decolagens naquele aeroporto"
      ],
      "metadata": {
        "id": "3g7hgA-yo8Q8"
      }
    },
    {
      "cell_type": "markdown",
      "source": [
        "#Extras:\n",
        "* Descrever qual estratégia você usaria para ingerir estes dados de forma incremental caso precise capturar esses dados a cada mes?\n",
        "    -  Utilizaria o aiflow para automatizar todo o processo.\n",
        "* Justifique em cada etapa sobre a escalabilidade da tecnologia utilizada.\n",
        "    - Utilizaria pyspark e python para o processamento e ETL dos dados, aws s3 para armazenamento dos dados brutos, aws redshift para disponibilizar os dados. \n",
        "* Justifique as camadas utilizadas durante o processo de ingestão até a disponibilização dos dados.\n",
        "    - A camadas seria: a coleta/processamento, mensageria, land zone, raw zone, trusted zone, refined zone."
      ],
      "metadata": {
        "id": "l3OfuNSS29QK"
      }
    },
    {
      "cell_type": "code",
      "source": [],
      "metadata": {
        "id": "R5_3OTJl9Abj"
      },
      "execution_count": null,
      "outputs": []
    }
  ]
}